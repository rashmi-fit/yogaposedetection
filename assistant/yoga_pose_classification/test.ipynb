{
 "cells": [
  {
   "cell_type": "code",
   "execution_count": 1,
   "metadata": {},
   "outputs": [
    {
     "ename": "",
     "evalue": "",
     "output_type": "error",
     "traceback": [
      "\u001b[1;31mThe Kernel crashed while executing code in the current cell or a previous cell. \n",
      "\u001b[1;31mPlease review the code in the cell(s) to identify a possible cause of the failure. \n",
      "\u001b[1;31mClick <a href='https://aka.ms/vscodeJupyterKernelCrash'>here</a> for more info. \n",
      "\u001b[1;31mView Jupyter <a href='command:jupyter.viewOutput'>log</a> for further details."
     ]
    }
   ],
   "source": [
    "import tensorflow as tf\n",
    "print(tf.__version__)"
   ]
  },
  {
   "cell_type": "code",
   "execution_count": null,
   "metadata": {},
   "outputs": [
    {
     "name": "stdout",
     "output_type": "stream",
     "text": [
      "-------------\n",
      "image_classifier_model_20240120_181651.h5\n"
     ]
    },
    {
     "name": "stderr",
     "output_type": "stream",
     "text": [
      "WARNING:absl:At this time, the v2.11+ optimizer `tf.keras.optimizers.Adam` runs slowly on M1/M2 Macs, please use the legacy Keras optimizer instead, located at `tf.keras.optimizers.legacy.Adam`.\n"
     ]
    },
    {
     "name": "stdout",
     "output_type": "stream",
     "text": [
      "Model loaded successfully from model/trained_models/image_classifier_model_20240120_181651.h5\n",
      "{'Bridge-Pose': 0, 'Chair-Pose': 1, 'Child-Pose': 2, 'Cobra-Pose': 3, 'Downward-Dog-Pose': 4, 'Goddess-Pose': 5, 'Pigeon-Pose': 6, 'Plank-Pose': 7, 'Side-Plank-Pose': 8, 'Standing-Mountain-Pose': 9, 'Tree-Pose': 10, 'Triangle-Pose': 11, 'Warrior-Pose': 12}\n"
     ]
    }
   ],
   "source": [
    "from tensorflow.keras.models import load_model\n",
    "import os\n",
    "import json\n",
    "def load_keras_model(file_path):\n",
    "    \"\"\"\n",
    "    Load a Keras model from a .h5 file.\n",
    "\n",
    "    Parameters:\n",
    "    - file_path (str): The path to the .h5 file containing the saved model.\n",
    "\n",
    "    Returns:\n",
    "    - model: The loaded Keras model.\n",
    "    \"\"\"\n",
    "    try:\n",
    "        model = load_model(file_path)\n",
    "        print(f\"Model loaded successfully from {file_path}\")\n",
    "        return model\n",
    "    except Exception as e:\n",
    "        print(f\"Error loading model from {file_path}: {e}\")\n",
    "        return None\n",
    "\n",
    "\n",
    "folder_path = \"model/trained_models\"\n",
    "files = [x for x in os.listdir(folder_path) if '.h5' in x]\n",
    "for file in files[0:1]:\n",
    "    try:\n",
    "        print('-------------')\n",
    "        print(file)\n",
    "        loaded_model = load_keras_model(os.path.join(folder_path,file))\n",
    "        with open(os.path.join(folder_path,f'{file.split(\".\")[0]}.json'), 'r') as f:\n",
    "            loaded_class_labels = json.load(f)\n",
    "            print(loaded_class_labels)\n",
    "        loaded_model.class_label =loaded_class_labels\n",
    "    except:\n",
    "        print('IN EXCEPT')\n",
    "        pass"
   ]
  },
  {
   "cell_type": "code",
   "execution_count": null,
   "metadata": {},
   "outputs": [
    {
     "data": {
      "text/plain": [
       "{'Bridge-Pose': 0,\n",
       " 'Chair-Pose': 1,\n",
       " 'Child-Pose': 2,\n",
       " 'Cobra-Pose': 3,\n",
       " 'Downward-Dog-Pose': 4,\n",
       " 'Goddess-Pose': 5,\n",
       " 'Pigeon-Pose': 6,\n",
       " 'Plank-Pose': 7,\n",
       " 'Side-Plank-Pose': 8,\n",
       " 'Standing-Mountain-Pose': 9,\n",
       " 'Tree-Pose': 10,\n",
       " 'Triangle-Pose': 11,\n",
       " 'Warrior-Pose': 12}"
      ]
     },
     "execution_count": 19,
     "metadata": {},
     "output_type": "execute_result"
    }
   ],
   "source": [
    "loaded_model.class_label\n"
   ]
  },
  {
   "cell_type": "code",
   "execution_count": null,
   "metadata": {},
   "outputs": [
    {
     "ename": "NameError",
     "evalue": "name 'controllers' is not defined",
     "output_type": "error",
     "traceback": [
      "\u001b[0;31m---------------------------------------------------------------------------\u001b[0m",
      "\u001b[0;31mNameError\u001b[0m                                 Traceback (most recent call last)",
      "Cell \u001b[0;32mIn[6], line 3\u001b[0m\n\u001b[1;32m      1\u001b[0m \u001b[38;5;66;03m#--------------------------------#\u001b[39;00m\n\u001b[1;32m      2\u001b[0m \u001b[38;5;66;03m# GLOBAL VARIABLE\u001b[39;00m\n\u001b[0;32m----> 3\u001b[0m dataset_path \u001b[38;5;241m=\u001b[39m \u001b[43mcontrollers\u001b[49m\u001b[38;5;241m.\u001b[39mconstants\u001b[38;5;241m.\u001b[39mDATA_DIR\n\u001b[1;32m      4\u001b[0m batch_size \u001b[38;5;241m=\u001b[39m  \u001b[38;5;241m32\u001b[39m\n\u001b[1;32m      5\u001b[0m img_size\u001b[38;5;241m=\u001b[39m(\u001b[38;5;241m224\u001b[39m,\u001b[38;5;241m224\u001b[39m)\n",
      "\u001b[0;31mNameError\u001b[0m: name 'controllers' is not defined"
     ]
    }
   ],
   "source": [
    "#--------------------------------#\n",
    "# GLOBAL VARIABLE\n",
    "dataset_path = controllers.constants.DATA_DIR\n",
    "batch_size =  32\n",
    "img_size=(224,224)\n",
    "epochs = 5\n",
    "validation_split  =  0.3\n",
    "#--------------------------------#"
   ]
  },
  {
   "cell_type": "code",
   "execution_count": null,
   "metadata": {},
   "outputs": [
    {
     "ename": "NameError",
     "evalue": "name 'tf_trainer' is not defined",
     "output_type": "error",
     "traceback": [
      "\u001b[0;31m---------------------------------------------------------------------------\u001b[0m",
      "\u001b[0;31mNameError\u001b[0m                                 Traceback (most recent call last)",
      "Cell \u001b[0;32mIn[7], line 2\u001b[0m\n\u001b[1;32m      1\u001b[0m \u001b[38;5;66;03m# Load and preprocess the data\u001b[39;00m\n\u001b[0;32m----> 2\u001b[0m train_generator, validation_generator \u001b[38;5;241m=\u001b[39m \u001b[43mtf_trainer\u001b[49m\u001b[38;5;241m.\u001b[39mload_and_preprocess_data(dataset_path, img_size, batch_size, validation_split)\n\u001b[1;32m      3\u001b[0m \u001b[38;5;66;03m# Create the model\u001b[39;00m\n\u001b[1;32m      4\u001b[0m num_classes \u001b[38;5;241m=\u001b[39m \u001b[38;5;28mlen\u001b[39m(train_generator\u001b[38;5;241m.\u001b[39mclass_indices)\n",
      "\u001b[0;31mNameError\u001b[0m: name 'tf_trainer' is not defined"
     ]
    }
   ],
   "source": [
    "# Load and preprocess the data\n",
    "train_generator, validation_generator = tf_trainer.load_and_preprocess_data(dataset_path, img_size, batch_size, validation_split)\n",
    "# Create the model\n",
    "num_classes = len(train_generator.class_indices)\n",
    "model = tf_trainer.create_model(input_shape=(img_size[0], img_size[1], 3), num_classes=num_classes)"
   ]
  },
  {
   "cell_type": "code",
   "execution_count": null,
   "metadata": {},
   "outputs": [],
   "source": [
    "from PIL import ImageFile\n",
    "ImageFile.LOAD_TRUNCATED_IMAGES=True"
   ]
  },
  {
   "cell_type": "code",
   "execution_count": null,
   "metadata": {},
   "outputs": [],
   "source": [
    "# # Train the model\n",
    "history = model.fit(\n",
    "    train_generator,\n",
    "    epochs=epochs,\n",
    "    validation_data=validation_generator\n",
    ")"
   ]
  },
  {
   "cell_type": "code",
   "execution_count": null,
   "metadata": {},
   "outputs": [],
   "source": []
  },
  {
   "cell_type": "code",
   "execution_count": null,
   "metadata": {},
   "outputs": [],
   "source": [
    "# Save the model\n",
    "from datetime import datetime\n",
    "current_datetime = datetime.now().strftime(\"%Y%m%d_%H%M%S\")\n",
    "model.save(f'image_classifier_model_{current_datetime}.keras')\n",
    "\n",
    "# Evaluate the model\n",
    "loss, accuracy = model.evaluate(validation_generator)\n",
    "print(f'Validation accuracy: {accuracy * 100:.2f}%')"
   ]
  },
  {
   "cell_type": "code",
   "execution_count": null,
   "metadata": {},
   "outputs": [],
   "source": [
    "model_name = \"image_classifier_model_20231129_010347.keras\"\n",
    "loaded_model = tf_trainer.load_keras_model(model_name)\n",
    "\n",
    "# Evaluate the model\n",
    "# loss, accuracy = loaded_model.evaluate(validation_generator)\n",
    "# print(f'Validation accuracy: {accuracy * 100:.2f}%')"
   ]
  },
  {
   "cell_type": "code",
   "execution_count": null,
   "metadata": {},
   "outputs": [],
   "source": [
    "loaded_model.get_weights()"
   ]
  }
 ],
 "metadata": {
  "kernelspec": {
   "display_name": ".venv",
   "language": "python",
   "name": "python3"
  },
  "language_info": {
   "codemirror_mode": {
    "name": "ipython",
    "version": 3
   },
   "file_extension": ".py",
   "mimetype": "text/x-python",
   "name": "python",
   "nbconvert_exporter": "python",
   "pygments_lexer": "ipython3",
   "version": "3.9.13"
  }
 },
 "nbformat": 4,
 "nbformat_minor": 2
}
